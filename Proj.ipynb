{
 "cells": [
  {
   "cell_type": "markdown",
   "id": "f5ff74f4-2f5d-4d28-ab5a-13bc17a4a7b7",
   "metadata": {},
   "source": [
    "# Pantheon SN 1A analysis"
   ]
  },
  {
   "cell_type": "markdown",
   "id": "fa802a80-70a3-4308-9973-0f6737fecb60",
   "metadata": {},
   "source": [
    "## Top level imports"
   ]
  },
  {
   "cell_type": "code",
   "execution_count": 1,
   "id": "f178e532-e64b-4689-98e0-aa8c81208369",
   "metadata": {},
   "outputs": [],
   "source": [
    "import numpy as np\n",
    "import pandas as pd\n",
    "import matplotlib.pyplot as plt\n",
    "from scipy import integrate\n",
    "import os\n",
    "from scipy.optimize import curve_fit\n",
    "from IPython.display import display, Math\n",
    "from matplotlib.patches import Ellipse"
   ]
  },
  {
   "cell_type": "markdown",
   "id": "5511136f-f905-465d-87a5-afb1ab41e303",
   "metadata": {},
   "source": [
    "## Fisher Matrix Functions"
   ]
  },
  {
   "cell_type": "code",
   "execution_count": 2,
   "id": "bbdb09aa-8a51-423b-9188-980b6239a155",
   "metadata": {},
   "outputs": [],
   "source": [
    "def r(z,params):\n",
    "    '''\n",
    "    params: tuple or array, containing [omega_m,w]\n",
    "    '''\n",
    "    return (1/H_0) * integrate.quad(r_func,0,z,args=(params))[0]\n",
    "\n",
    "def r_func(z,omega_m,w):\n",
    "    omega_de = 1-omega_m\n",
    "    return 1/np.sqrt(omega_m*(1+z)**3+omega_de*(1+z)**(3*(1+w)))\n",
    "\n",
    "def h(z,params):\n",
    "    return integrate.quad(h_func,z,0,args=(params))[0]\n",
    "\n",
    "def h_func(z,omega_m,w):\n",
    "    return (1+z)**3 * ((1+z)**(3*w)-1)/(omega_m*(1+z)**3+(1-omega_m)*(1+z)**(3*(1+w)))**(3/2)\n",
    "\n",
    "def g(z,params):\n",
    "    return integrate.quad(g_func,z,0,args=(params))[0]\n",
    "\n",
    "def g_func(z,omega_m,w):\n",
    "    omega_de = 1-omega_m\n",
    "    return omega_de*(1+z)**(3*(1+w))*np.log(1+z)/(omega_m*(1+z)**3 + (1-omega_m)*(1+z)**(3*(1+w)))**(3/2)\n",
    "\n",
    "# def del_m_del_w(z,params):\n",
    "#     return 15/(2*np.log(10)) * g(z,params)/r(z,params)\n",
    "\n",
    "# def del_m_del_omega_m(z,params):\n",
    "#     return 2.5/np.log(10) * h(z,params)/r(z,params)\n",
    "\n",
    "\n",
    "def del_m_del_w(z,params):\n",
    "    #return 15/(2*np.log(10)) * g(z,params)/r(z,params)\n",
    "    dw=0.01\n",
    "    return 5/(np.log(10)*r_func(z,omega_m,w)) *(r_func(z,omega_m,w+dw)-r_func(z,omega_m,w-dw))/(2*dw)\n",
    "\n",
    "def del_m_del_omega_m(z,params):\n",
    "    #return 2.5/np.log(10) * h(z,params)/r(z,params)\n",
    "    dOm=0.01\n",
    "    return 5/(np.log(10)*r_func(z,omega_m,w)) *(r_func(z,omega_m+dOm,w)-r_func(z,omega_m-dOm,w))/(2*dOm)"
   ]
  },
  {
   "cell_type": "markdown",
   "id": "b3c0d660-d3bc-4959-a53c-877b6bbb0f18",
   "metadata": {},
   "source": [
    "## Importing data"
   ]
  },
  {
   "cell_type": "code",
   "execution_count": 3,
   "id": "236a16e8-404b-4e4a-a986-4dabdb6db420",
   "metadata": {},
   "outputs": [],
   "source": [
    "def importDF(path,col_ignore=False,cols=None,sep=\",\"):\n",
    "    df = pd.read_csv(path,sep=sep)\n",
    "    if col_ignore:\n",
    "        df = df[cols]\n",
    "    return df\n",
    "\n",
    "def dropArr():\n",
    "    return ['zcmb','mb','dmb']"
   ]
  },
  {
   "cell_type": "code",
   "execution_count": 4,
   "id": "1a5b8890-f6d0-4c3f-8148-3f0caaddb3e4",
   "metadata": {},
   "outputs": [],
   "source": [
    "path = \"/Users/sean/Desktop/Cosmo proj/lcparam_full_long_zhel.txt\" # Path to the data file\n",
    "df = importDF(path,col_ignore=True,cols=dropArr(),sep=\" \")"
   ]
  },
  {
   "cell_type": "code",
   "execution_count": 5,
   "id": "f68783a0-e663-4256-bc9a-b5ff339af583",
   "metadata": {},
   "outputs": [],
   "source": [
    "systematics_path = \"/Users/sean/Desktop/Cosmo proj/sys_full_long.txt\"\n",
    "systematics = np.loadtxt(systematics_path,skiprows=1)\n",
    "covariance = np.reshape(systematics,(int(np.sqrt(len(systematics))),int(np.sqrt(len(systematics)))))\n",
    "\n",
    "for k in range(len(covariance)):\n",
    "    covariance[k][k] = covariance[k][k] + df['dmb'][k]**2"
   ]
  },
  {
   "cell_type": "markdown",
   "id": "0f96f184-d377-42aa-8637-241deca97d4f",
   "metadata": {},
   "source": [
    "## Fisher Matrix calculations"
   ]
  },
  {
   "cell_type": "code",
   "execution_count": 6,
   "id": "d4b3fc75-c622-4cbc-a2df-0f131d50117f",
   "metadata": {},
   "outputs": [],
   "source": [
    "def generate_fisher(nparams,uncertainty,redshifts,del_funcs,params):\n",
    "    '''\n",
    "    nparams: number of parameters\n",
    "    uncertainty: 2d array of magnitude covariances\n",
    "    redshifts: array of measured redshifts\n",
    "    del_funcs: array that contains all of the derivative of magnitude functions - must be nparams*nparams in size\n",
    "    params: tuple that contains (omega_m,w)\n",
    "    '''\n",
    "    fisher = np.empty((nparams,nparams))\n",
    "    for k in range(nparams):\n",
    "        for l in range(nparams):\n",
    "            all_delta_m_k = np.zeros(len(redshifts))\n",
    "            all_delta_m_l = np.zeros(len(redshifts))\n",
    "            for entry in range(len(redshifts)):\n",
    "                all_delta_m_k[entry] = del_funcs[k](redshifts[entry],params)\n",
    "                all_delta_m_l[entry] = del_funcs[l](redshifts[entry],params)\n",
    "            fisher[k][l] = np.matmul(np.matmul(all_delta_m_k.T,np.linalg.inv(uncertainty)), all_delta_m_l)\n",
    "    return fisher"
   ]
  },
  {
   "cell_type": "code",
   "execution_count": 7,
   "id": "69d5a4b8-2b23-4d33-bfc9-7fa8a017d744",
   "metadata": {},
   "outputs": [],
   "source": [
    "omega_m,w = 0.3,-1\n",
    "\n",
    "h_little=1\n",
    "H_0 = 100*h_little\n",
    "\n",
    "Fisher = generate_fisher(2,covariance,df['zcmb'],[del_m_del_omega_m,del_m_del_w],(omega_m,w))"
   ]
  },
  {
   "cell_type": "code",
   "execution_count": 8,
   "id": "847b3ae0-cdaa-4896-a8a5-763251091611",
   "metadata": {},
   "outputs": [
    {
     "name": "stdout",
     "output_type": "stream",
     "text": [
      "Marginalized over other parameters\n"
     ]
    },
    {
     "data": {
      "text/latex": [
       "$\\displaystyle \\sigma(\\Omega_m) \\geq2.35E-02$"
      ],
      "text/plain": [
       "<IPython.core.display.Math object>"
      ]
     },
     "metadata": {},
     "output_type": "display_data"
    },
    {
     "name": "stdout",
     "output_type": "stream",
     "text": [
      "Unmarginalized, other parameters fixed and known\n"
     ]
    },
    {
     "data": {
      "text/latex": [
       "$\\displaystyle \\sigma(\\Omega_m) \\geq4.34E-03$"
      ],
      "text/plain": [
       "<IPython.core.display.Math object>"
      ]
     },
     "metadata": {},
     "output_type": "display_data"
    },
    {
     "name": "stdout",
     "output_type": "stream",
     "text": [
      "Marginalized over other parameters\n"
     ]
    },
    {
     "data": {
      "text/latex": [
       "$\\displaystyle \\sigma(w) \\geq6.27E-02$"
      ],
      "text/plain": [
       "<IPython.core.display.Math object>"
      ]
     },
     "metadata": {},
     "output_type": "display_data"
    },
    {
     "name": "stdout",
     "output_type": "stream",
     "text": [
      "Unmarginalized, other parameters fixed and known\n"
     ]
    },
    {
     "data": {
      "text/latex": [
       "$\\displaystyle \\sigma(w) \\geq1.16E-02$"
      ],
      "text/plain": [
       "<IPython.core.display.Math object>"
      ]
     },
     "metadata": {},
     "output_type": "display_data"
    }
   ],
   "source": [
    "sigma_txt = [r'\\sigma(\\Omega_m) \\geq',r'\\sigma(w) \\geq']\n",
    "\n",
    "marginalized = np.zeros(len(Fisher))\n",
    "unmarginalized = np.zeros(len(Fisher))\n",
    "\n",
    "for k in range(len(Fisher)):\n",
    "    marginalized[k] = np.sqrt(np.linalg.inv(Fisher)[k][k])\n",
    "    unmarginalized[k] = 1/np.sqrt(Fisher[k][k])\n",
    "    \n",
    "    print(\"Marginalized over other parameters\")\n",
    "    display(Math(sigma_txt[k]+\"{:1.2E}\".format(marginalized[k])))\n",
    "    print(\"Unmarginalized, other parameters fixed and known\")\n",
    "    display(Math(sigma_txt[k]+\"{:1.2E}\".format(unmarginalized[k])))"
   ]
  },
  {
   "cell_type": "markdown",
   "id": "e92e76f2-364f-4efb-ae8f-f753a1467118",
   "metadata": {},
   "source": [
    "### A few functions for calculations"
   ]
  },
  {
   "cell_type": "code",
   "execution_count": 9,
   "id": "a802b27f-22fa-4db5-a4cc-c2ba9465a627",
   "metadata": {},
   "outputs": [],
   "source": [
    "def chi_squared(ydata,yerr,xdata,params,model):\n",
    "    A,B,C = 0,0,0\n",
    "    for j in range(len(ydata)):\n",
    "        A+=((ydata[j]-mag_theoretical(xdata[j],params))/yerr[j])**2\n",
    "        B+=(ydata[j]-mag_theoretical(xdata[j],params))/yerr[j]**2\n",
    "        C+=1/yerr[j]**2\n",
    "    return A-B**2/C\n",
    "\n",
    "def chi_squared_cov(ydata,cov,xdata,params,model):\n",
    "    arr = np.empty(len(ydata))\n",
    "    \n",
    "    for l in range(len(arr)):\n",
    "        arr[l] = ydata[l]-model(xdata[l] , params)\n",
    "\n",
    "    Identity = np.ones(len(arr)) # Define identity column vector here\n",
    "\n",
    "    A = np.matmul(np.matmul(arr.T,np.linalg.inv(cov)),arr)\n",
    "    B = np.matmul(np.matmul(Identity.T,np.linalg.inv(cov)),arr)\n",
    "    C = np.matmul(np.matmul(Identity.T,np.linalg.inv(cov)),Identity)\n",
    "    \n",
    "    return A-B**2/C\n",
    "\n",
    "def mag_theoretical(z,params):\n",
    "    return 5*np.log10(H_0*luminosity_distance(z,params))\n",
    "\n",
    "def luminosity_distance(z,params):\n",
    "    return (1+z)*r(z,params)"
   ]
  },
  {
   "cell_type": "markdown",
   "id": "a1ffa6e6-5244-4a19-a88b-3d9353009d4f",
   "metadata": {},
   "source": [
    "## The PANTHEON measurements"
   ]
  },
  {
   "cell_type": "code",
   "execution_count": 10,
   "id": "3fea5c29-6baa-4061-a805-dfade1672a44",
   "metadata": {},
   "outputs": [],
   "source": [
    "pantheon_w, pantheon_w_sigma = -1.026,0.41\n",
    "pantheon_omega_m,pantheon_omega_m_sigma = 0.307,0.012\n",
    "\n",
    "# Pulled from https://arxiv.org/abs/1710.00845"
   ]
  },
  {
   "cell_type": "markdown",
   "id": "b169261c-3414-48c5-98b8-211cf1831a02",
   "metadata": {},
   "source": [
    "## Setting the parameters of the grid"
   ]
  },
  {
   "cell_type": "code",
   "execution_count": 11,
   "id": "066aeeda-80fa-40df-9a58-4c69909af267",
   "metadata": {},
   "outputs": [],
   "source": [
    "d_omega_m = 0.005\n",
    "d_w = 0.01\n",
    "\n",
    "omega_m_min,omega_m_max = 0.2,0.5\n",
    "w_min,w_max = -1.5,-0.5\n",
    "\n",
    "best_fit_chi_lambda_fixed_omega_m = 1E10\n",
    "best_fit_chi_lambda_fixed_w = 1E10\n",
    "best_fit_chi_wcdm = 1E10\n",
    "\n",
    "fiducial_omega_m = 0.3\n",
    "fiducial_w = -1\n",
    "\n",
    "omega_m_arr = np.arange(omega_m_min,omega_m_max+d_omega_m, step=d_omega_m)\n",
    "w_arr = np.arange(w_min,w_max+d_w,step=d_w)"
   ]
  },
  {
   "cell_type": "code",
   "execution_count": 12,
   "id": "452c84cb-4aa4-40eb-8861-2cf8a7dd5e42",
   "metadata": {},
   "outputs": [],
   "source": [
    "covariance_flag = True\n",
    "\n",
    "if covariance_flag:\n",
    "    chi_func = chi_squared_cov\n",
    "    unc = covariance\n",
    "    end_string = 'with_covariance.jpg'\n",
    "else:\n",
    "    chi_func = chi_squared\n",
    "    end_string = 'no_covariance.jpg'\n",
    "    unc = df['dmb']"
   ]
  },
  {
   "cell_type": "markdown",
   "id": "a75bb7cb-273c-4e7d-a6df-a4e953ebdeb8",
   "metadata": {
    "scrolled": true
   },
   "source": [
    "## Cycling over the grid"
   ]
  },
  {
   "cell_type": "code",
   "execution_count": null,
   "id": "26e24fcf-5573-4ee8-a4bf-be56e4ffda6a",
   "metadata": {
    "scrolled": true
   },
   "outputs": [
    {
     "name": "stdout",
     "output_type": "stream",
     "text": [
      "omega_m = 0.200. Testing of parameters complete\n",
      "omega_m = 0.205. Testing of parameters complete\n",
      "omega_m = 0.210. "
     ]
    }
   ],
   "source": [
    "chi_arr = np.empty((len(omega_m_arr),len(w_arr)),dtype=float)\n",
    "chi_arr_fixed_w = np.empty(len(omega_m_arr))\n",
    "chi_arr_fixed_omega_m = np.empty(len(w_arr))\n",
    "\n",
    "omega_m_iter,w_iter = 0,0\n",
    "\n",
    "for omega_m in omega_m_arr:\n",
    "    print(\"omega_m =\",\"{:.3f}\".format(omega_m),end=\". \")\n",
    "    for w in w_arr:\n",
    "        \n",
    "        chi_val = chi_func(df['mb'],unc,df['zcmb'],(omega_m,w),mag_theoretical)\n",
    "        chi_arr[omega_m_iter][w_iter] = chi_val\n",
    "        \n",
    "        if chi_val<best_fit_chi_wcdm:\n",
    "            best_fit_chi_wcdm,best_omega_m_wcdm,best_w_wcdm = chi_val,omega_m,w\n",
    "        if \"{:.5f}\".format(w)==\"{:.5f}\".format(fiducial_w): # If lambda CDM cosmology\n",
    "            chi_arr_fixed_w[omega_m_iter] = chi_val\n",
    "            if chi_val<best_fit_chi_lambda_fixed_w:\n",
    "                best_fit_chi_lambda_fixed_w,best_omega_m_lambda = chi_val,omega_m\n",
    "                \n",
    "        if \"{:.5f}\".format(omega_m) == \"{:.5f}\".format(fiducial_omega_m):\n",
    "            chi_arr_fixed_omega_m[w_iter] = chi_val\n",
    "            if chi_val<best_fit_chi_lambda_fixed_omega_m:\n",
    "                best_fit_chi_lambda_fixed_omega_m,best_w_lambda = chi_val,w\n",
    "                \n",
    "        w_iter+=1\n",
    "    omega_m_iter+=1\n",
    "    w_iter = 0\n",
    "    print(\"Testing of parameters complete\")"
   ]
  },
  {
   "cell_type": "code",
   "execution_count": null,
   "id": "2dcaca55-9380-48ca-8ba2-92b1ca7865ea",
   "metadata": {},
   "outputs": [],
   "source": [
    "print(\"---\"*7,\"wCDM\",\"---\"*7)\n",
    "print(r\"Omega_m that minimizes chi^2 in w-CDM:\",\"{:0.4f}\".format(best_omega_m_wcdm))\n",
    "print(r\"w that minimizes chi^2 in w-CDM:\",\"{:0.4f}\".format(best_w_wcdm))\n",
    "print(r\"$\\chi^2$ of best fit Omega_m in w-CDM:\",\"{:0.4f}\".format(best_fit_chi_wcdm),end='\\n\\n')\n",
    "\n",
    "print(\"---\"*4,\"Lambda-CDM, fixed w={:.4f}\".format(fiducial_w),\"---\"*4)\n",
    "print(r\"Omega_m that minimizes chi^2 in lambda CDM with fixed w:\",\"{:0.4f}\".format(best_omega_m_lambda))\n",
    "print(r\"chi^2 of best fit Omega_m in lambda CDM:\",\"{:0.4f}\".format(best_fit_chi_lambda_fixed_w),end='\\n\\n')\n",
    "\n",
    "print(\"---\"*3,\"Lambda-CDM, with omega_m={:.4f}\".format(fiducial_omega_m),\"---\"*3)\n",
    "print(r\"w that minimizes chi^2 in lambda CDM with omega_m fixed:\",\"{:0.4f}\".format(best_w_lambda))\n",
    "print(r\"chi^2 of best fit w in lambda CDM:\",\"{:0.4f}\".format(best_fit_chi_lambda_fixed_omega_m),end='\\n\\n')\n",
    "\n",
    "print(\"---\"*4,\"PANTHEON Measurements\",\"---\"*4)\n",
    "print(r\"PANTHEON Omega_m:\",\"{:0.4f}\".format(pantheon_omega_m))\n",
    "print(r\"PANTHEON w:\",\"{:0.4f}\".format(pantheon_w))"
   ]
  },
  {
   "cell_type": "markdown",
   "id": "ed2af1c3-4587-4459-ab37-affae346eb45",
   "metadata": {},
   "source": [
    "## Manipulating the chi squared values into likelihood values"
   ]
  },
  {
   "cell_type": "code",
   "execution_count": null,
   "id": "7a16eef9-9fdc-469c-92a8-99f5b03f35ad",
   "metadata": {},
   "outputs": [],
   "source": [
    "likelihood_arr = np.exp(-chi_arr/2 + 520).T\n",
    "likelihood_arr = likelihood_arr/np.max(likelihood_arr)\n",
    "\n",
    "likelihood_arr_fixed_w = np.exp(-chi_arr_fixed_w/2 + 520).T\n",
    "likelihood_arr_fixed_w = likelihood_arr_fixed_w/np.max(likelihood_arr_fixed_w)\n",
    "\n",
    "likelihood_arr_fixed_omega_m = np.exp(-chi_arr_fixed_omega_m/2 + 520).T\n",
    "likelihood_arr_fixed_omega_m = likelihood_arr_fixed_omega_m/np.max(likelihood_arr_fixed_omega_m)"
   ]
  },
  {
   "cell_type": "markdown",
   "id": "d375ad98-05ed-475c-9122-8b3a070ec307",
   "metadata": {},
   "source": [
    "## Two helper functions"
   ]
  },
  {
   "cell_type": "code",
   "execution_count": null,
   "id": "1044ecb0-ffcc-4364-9b17-928865a69c2b",
   "metadata": {},
   "outputs": [],
   "source": [
    "def find_level(level,arr):\n",
    "    '''\n",
    "    Find the value that encloses x% of the total weight\n",
    "    '''\n",
    "    sum = np.sum(arr)\n",
    "    \n",
    "    target = level*sum\n",
    "\n",
    "    one_d_arr = np.hstack(likelihood_arr)\n",
    "    sorted_arr = np.sort(one_d_arr)[::-1]\n",
    "    \n",
    "    val=0\n",
    "    iter = 0\n",
    "\n",
    "    while val<target:\n",
    "        last = sorted_arr[iter]\n",
    "        val+=last\n",
    "        iter+=1\n",
    "\n",
    "    return last\n",
    "\n",
    "def comparison(measurement,fiducial,sigma):\n",
    "    return np.abs(measurement - fiducial)/sigma"
   ]
  },
  {
   "cell_type": "markdown",
   "id": "eb1f1dd6-24cc-41d8-9437-025ee2644d22",
   "metadata": {},
   "source": [
    "# $\\Omega_m$ - w plane"
   ]
  },
  {
   "cell_type": "code",
   "execution_count": null,
   "id": "74d99695-583c-4cae-b8b6-d5d8fbd5b27d",
   "metadata": {},
   "outputs": [],
   "source": [
    "# omega_m_fisher_high, omega_m_fisher_low = best_omega_m_wcdm + marginalized[0],best_omega_m_wcdm - marginalized[0]\n",
    "# w_fisher_high, w_fisher_low = best_w_wcdm + marginalized[1],best_w_wcdm - marginalized[1]"
   ]
  },
  {
   "cell_type": "code",
   "execution_count": null,
   "id": "f5f6552d-8aa0-41c2-b7aa-948b0af81a9c",
   "metadata": {},
   "outputs": [],
   "source": [
    "fig,ax = plt.subplots(figsize=[8,6])\n",
    "\n",
    "im1 = ax.contourf(omega_m_arr,w_arr,likelihood_arr,vmin=0,vmax=1,levels=np.arange(0,1.01,step=0.01),cmap='cividis')\n",
    "ax.set_xlabel(r'$\\Omega_m$')\n",
    "ax.set_ylabel('w')\n",
    "ax.set_title(r\"Likelihood over $\\Omega_m$-w plane\")\n",
    "ax.set_xticks(np.arange(min(omega_m_arr),max(omega_m_arr)+d_omega_m,0.02))\n",
    "plt.colorbar(im1,label=\"Likelihood\",ticks=np.arange(0,1.1,step=0.1))\n",
    "\n",
    "ax.scatter(best_omega_m_wcdm,best_w_wcdm,marker=\"+\",color='black',label=r\"My max($L(\\Omega_m, w$)) = (\"+\"{:.3f}, \".format(best_omega_m_wcdm)+\"{:.3f}\".format(best_w_wcdm)+\")\")\n",
    "\n",
    "sigmas = [0.6827,0.9545,0.997300, 0.999936, \t0.999999 ,\t0.999999998,0.999999999997]\n",
    "iter=0\n",
    "for level in sigmas[0:3]:\n",
    "    level = find_level(level,likelihood_arr)\n",
    "    label = str(iter+1)+r\"$\\sigma$\"\n",
    "    CS = ax.contour(omega_m_arr,w_arr,likelihood_arr, levels=[level],cmap='Oranges')\n",
    "    ax.clabel(CS, inline=True, fontsize=10,fmt=label)\n",
    "    iter+=1\n",
    "\n",
    "ax.scatter(pantheon_omega_m,pantheon_w,marker=\"x\",color='r',\n",
    "           label=r\"Pantheon max($L(\\Omega_m, w$)) = (\"+\"{:.3f}, \".format(pantheon_omega_m)+\"{:.3f}\".format(pantheon_w)+\")\")\n",
    "\n",
    "ellipse = Ellipse(xy=(best_omega_m_wcdm,best_w_wcdm), width=marginalized[0], height=marginalized[1], \n",
    "                        edgecolor='green', fc='None', ls='--',lw=2,label = r\"Fisher 1-$\\sigma$ limits\")\n",
    "ax.add_patch(ellipse)\n",
    "\n",
    "plt.legend()\n",
    "\n",
    "fig.tight_layout()\n",
    "\n",
    "plt.savefig(os.getcwd()+\"/TwoDimLikelihood_\"+end_string,dpi=180)\n",
    "\n",
    "plt.show()"
   ]
  },
  {
   "cell_type": "markdown",
   "id": "0c45e3ac-eaa9-4b94-9c89-2f2842df159a",
   "metadata": {},
   "source": [
    "### For w=-1 fixed"
   ]
  },
  {
   "cell_type": "markdown",
   "id": "71977dc4-0079-44d6-8f29-04fd0ccf4d40",
   "metadata": {},
   "source": [
    "Fit a gaussian to the likelihood, take the sigma values from the fit"
   ]
  },
  {
   "cell_type": "code",
   "execution_count": null,
   "id": "215693ed-28c9-4762-8563-3e4d996e5ed7",
   "metadata": {},
   "outputs": [],
   "source": [
    "def func(x, a, x0, sigma): \n",
    "    return a*np.exp(-((x-x0)/sigma)**2)\n",
    "\n",
    "parameters, covariance = curve_fit(func, omega_m_arr, likelihood_arr_fixed_w,p0=[1,best_omega_m_lambda,d_omega_m]) \n",
    "  \n",
    "fit_A = parameters[0] \n",
    "fit_B = parameters[1] \n",
    "fit_C = parameters[2] \n",
    "  \n",
    "fit_y = func(omega_m_arr, fit_A, fit_B, fit_C) \n",
    "\n",
    "one_sig_val = parameters[2]\n",
    "\n",
    "fig,ax = plt.subplots(figsize=[8,6])\n",
    "\n",
    "ax.plot(omega_m_arr,likelihood_arr_fixed_w,color='black',label=r\"Likelihood($\\Omega_m$)\")\n",
    "# ax.plot(omega_m_arr, fit_y, color='blue',label=\"Model fit\",ls='-.',alpha=1)\n",
    "ax.grid()\n",
    "ax.set_xlim(min(omega_m_arr),max(omega_m_arr))\n",
    "ax.set_ylim(0,1.05)\n",
    "ax.set_title(r\"Likelihood over $\\Omega_m$ with w=-1\")\n",
    "ax.set_xticks(np.arange(min(omega_m_arr),max(omega_m_arr),0.02))\n",
    "ax.set_xlabel(r'$\\Omega_m$')\n",
    "ax.set_ylabel('Likelihood')\n",
    "\n",
    "ax.axvline(best_omega_m_lambda,ls='--',color='red',label=r'$max(L(\\Omega_m))$='+\"{:.3f}\".format(best_omega_m_lambda))\n",
    "\n",
    "ax.axvline(best_omega_m_lambda - one_sig_val,ls='-.',color='red',label=r'My 1-$\\sigma=$'+\"{:.3f}\".format(one_sig_val))\n",
    "ax.axvline(best_omega_m_lambda + one_sig_val,ls='-.',color='red')\n",
    "\n",
    "ax.axvline(best_omega_m_lambda - 2*one_sig_val,ls='dotted',color='red',label=r'My 2-$\\sigma=$'+\"{:.3f}\".format(2*one_sig_val))\n",
    "ax.axvline(best_omega_m_lambda + 2*one_sig_val,ls='dotted',color='red')\n",
    "\n",
    "ax.axvline(pantheon_omega_m,ls='--',color='blue',label=r\"PANTHEON $\\Omega_m$ = {:0.3f}\".format(pantheon_omega_m))\n",
    "\n",
    "# ax.axvline(pantheon_omega_m + pantheon_omega_m_sigma,ls='-.',color='blue',label=r\"PANTHEON $\\sigma$ = {:0.4f}\".format(pantheon_omega_m_sigma))\n",
    "# ax.axvline(pantheon_omega_m - pantheon_omega_m_sigma,ls='-.',color='blue')\n",
    "\n",
    "# ax.axvline(pantheon_omega_m + 2*pantheon_omega_m_sigma,ls='-.',color='blue',label=r\"PANTHEON $\\sigma$ = {:0.4f}\".format(pantheon_omega_m_sigma))\n",
    "# ax.axvline(pantheon_omega_m - 2*pantheon_omega_m_sigma,ls='-.',color='blue')\n",
    "\n",
    "for val in [-1,1]:\n",
    "    if val==1:\n",
    "        ax.axvline(best_omega_m_lambda+unmarginalized[0]*val,label=r\"Fisher 1-$\\sigma$ limit\",ls='-.',c='green')\n",
    "    else:\n",
    "        ax.axvline(best_omega_m_lambda+unmarginalized[0]*val,ls='-.',c='green')\n",
    "\n",
    "plt.legend()\n",
    "\n",
    "fig.tight_layout()\n",
    "\n",
    "plt.savefig(os.getcwd()+\"/OneDimLikelihood_fixed_w_\"+end_string,dpi=180)\n",
    "\n",
    "plt.show()\n",
    "\n",
    "print(\"Maximizing the likelihood:\")\n",
    "result_txt = r'w ={:0.4f}'.format(best_omega_m_lambda)\n",
    "display(Math(result_txt))\n",
    "\n",
    "sigma_txt = r'\\sigma_{w} ='+' {:0.4f}'.format(one_sig_val)\n",
    "display(Math(sigma_txt))\n",
    "\n",
    "print(\"My measurement of omega_m is {:.2f} sigma away from the PANTHEON value of omega_m\".format( comparison(best_omega_m_lambda,pantheon_omega_m,one_sig_val)))"
   ]
  },
  {
   "cell_type": "markdown",
   "id": "6303d588-61f8-40a0-a1dd-49bafcfd72ee",
   "metadata": {},
   "source": [
    "### For $\\Omega_m$=0.3"
   ]
  },
  {
   "cell_type": "markdown",
   "id": "826b79a9-145d-4d23-9036-5a7ab6a605b8",
   "metadata": {},
   "source": [
    "Fit a gaussian to the likelihood, take the sigma values from the fit"
   ]
  },
  {
   "cell_type": "code",
   "execution_count": null,
   "id": "928c8b4c-cc94-4391-b0cc-a306953bd9ec",
   "metadata": {},
   "outputs": [],
   "source": [
    "parameters, covariance = curve_fit(func, w_arr, likelihood_arr_fixed_omega_m,p0=[1,best_w_lambda,d_w]) \n",
    "  \n",
    "fit_A = parameters[0] \n",
    "fit_B = parameters[1] \n",
    "fit_C = parameters[2]\n",
    "  \n",
    "fit_y = func(w_arr, fit_A, fit_B, fit_C) \n",
    "\n",
    "one_sig_val = parameters[2]\n",
    "\n",
    "fig,ax = plt.subplots(figsize=[8,6])\n",
    "\n",
    "ax.plot(w_arr,likelihood_arr_fixed_omega_m,color='black',label=r\"Likelihood(w)\")\n",
    "# ax.plot(w_arr, fit_y, color='blue',label=\"Model fit\",ls='-.',alpha=1)\n",
    "ax.grid()\n",
    "ax.set_xlim(min(w_arr),max(w_arr))\n",
    "ax.set_ylim(0,1.05)\n",
    "ax.set_title(r\"Likelihood over w with $\\Omega_m$=0.3\")\n",
    "ax.set_xticks(np.arange(min(w_arr),max(w_arr),0.2))\n",
    "ax.set_xlabel(r'w')\n",
    "ax.set_ylabel('Likelihood')\n",
    "\n",
    "ax.axvline(best_w_lambda,ls='--',color='red',label=r'$max(L(w))$='+\"{:.3f}\".format(best_w_lambda))\n",
    "\n",
    "ax.axvline(best_w_lambda - one_sig_val,ls='-.',color='red',label=r'1-$\\sigma=$'+\"{:.3f}\".format(one_sig_val))\n",
    "ax.axvline(best_w_lambda + one_sig_val,ls='-.',color='red')\n",
    "\n",
    "ax.axvline(best_w_lambda - 2*one_sig_val,ls='dotted',color='red',label=r'2-$\\sigma=$'+\"{:.3f}\".format(2*one_sig_val))\n",
    "ax.axvline(best_w_lambda + 2*one_sig_val,ls='dotted',color='red')\n",
    "\n",
    "ax.axvline(pantheon_w,ls='--',color='blue',label=r'PANTHEON w='+\"{:.2f}\".format(pantheon_w))\n",
    "\n",
    "# ax.axvline(pantheon_w + pantheon_w_sigma,ls='-.',color='blue',label=r'PANTHEON $\\sigma$='+\"{:.3f}\".format(pantheon_w_sigma))\n",
    "# ax.axvline(pantheon_w - pantheon_w_sigma,ls='-.',color='blue')\n",
    "\n",
    "# ax.axvline(pantheon_w + 2*pantheon_w_sigma,ls='-.',color='blue',label=r'PANTHEON $2\\sigma$='+\"{:.3f}\".format(2*pantheon_w_sigma))\n",
    "# ax.axvline(pantheon_w - 2*pantheon_w_sigma,ls='-.',color='blue')\n",
    "\n",
    "for val in [-1,1]:\n",
    "    if val==1:\n",
    "        ax.axvline(best_w_lambda+unmarginalized[1]*val,label=r\"Fisher 1-$\\sigma$ limit\",ls='-.',c='green')\n",
    "    else:\n",
    "        ax.axvline(best_w_lambda+unmarginalized[1]*val,ls='-.',c='green')\n",
    "\n",
    "plt.legend()\n",
    "\n",
    "fig.tight_layout()\n",
    "\n",
    "plt.savefig(os.getcwd()+\"/OneDimLikelihood_fixed_omega_m_\"+end_string,dpi=180)\n",
    "\n",
    "plt.show()\n",
    "\n",
    "print(\"Maximizing the likelihood:\")\n",
    "result_txt = r'w ={:0.4f}'.format(best_w_lambda)\n",
    "display(Math(result_txt))\n",
    "\n",
    "sigma_txt = r'\\sigma_{w} ='+' {:0.4f}'.format(one_sig_val)\n",
    "display(Math(sigma_txt))\n",
    "\n",
    "print(\"My measurement of w is {:.2f} sigma away from the PANTHEON value of w\".format( comparison(best_w_lambda,pantheon_w,one_sig_val)))"
   ]
  },
  {
   "cell_type": "code",
   "execution_count": null,
   "id": "5633d84c-b7d1-4c79-baeb-b5f9eebd9554",
   "metadata": {},
   "outputs": [],
   "source": []
  },
  {
   "cell_type": "code",
   "execution_count": null,
   "id": "741a9950-83ab-4aeb-8f8d-0266968cb88d",
   "metadata": {},
   "outputs": [],
   "source": []
  },
  {
   "cell_type": "code",
   "execution_count": null,
   "id": "7eb2f411-46c7-43cf-838b-a3eb620aad4d",
   "metadata": {},
   "outputs": [],
   "source": []
  },
  {
   "cell_type": "code",
   "execution_count": null,
   "id": "ba02da5d-1111-4c87-9523-999b1ac62b83",
   "metadata": {},
   "outputs": [],
   "source": []
  }
 ],
 "metadata": {
  "kernelspec": {
   "display_name": "Python 3 (ipykernel)",
   "language": "python",
   "name": "python3"
  },
  "language_info": {
   "codemirror_mode": {
    "name": "ipython",
    "version": 3
   },
   "file_extension": ".py",
   "mimetype": "text/x-python",
   "name": "python",
   "nbconvert_exporter": "python",
   "pygments_lexer": "ipython3",
   "version": "3.12.0"
  }
 },
 "nbformat": 4,
 "nbformat_minor": 5
}
